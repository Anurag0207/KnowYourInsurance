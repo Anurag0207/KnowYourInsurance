{
 "cells": [
  {
   "cell_type": "code",
   "execution_count": 110,
   "metadata": {},
   "outputs": [],
   "source": [
    "import torch"
   ]
  },
  {
   "cell_type": "code",
   "execution_count": null,
   "metadata": {},
   "outputs": [],
   "source": []
  },
  {
   "cell_type": "code",
   "execution_count": 111,
   "metadata": {},
   "outputs": [],
   "source": [
    "import torch\n",
    "import torchvision\n",
    "import torch.nn as nn\n",
    "import pandas as pd\n",
    "import matplotlib.pyplot as plt\n",
    "import torch.nn.functional as F\n",
    "from torchvision.datasets.utils import download_url\n",
    "from torch.utils.data import DataLoader, TensorDataset, random_split"
   ]
  },
  {
   "cell_type": "code",
   "execution_count": 112,
   "metadata": {},
   "outputs": [],
   "source": [
    "project_name='assign 1' "
   ]
  },
  {
   "cell_type": "code",
   "execution_count": 113,
   "metadata": {},
   "outputs": [
    {
     "name": "stdout",
     "output_type": "stream",
     "text": [
      "Using downloaded and verified file: .\\insurance.csv\n"
     ]
    }
   ],
   "source": [
    "DATASET_URL = \"https://gist.github.com/BirajCoder/5f068dfe759c1ea6bdfce9535acdb72d/raw/c84d84e3c80f93be67f6c069cbdc0195ec36acbd/insurance.csv\"\n",
    "DATA_FILENAME = \"insurance.csv\"\n",
    "download_url(DATASET_URL, '.')"
   ]
  },
  {
   "cell_type": "code",
   "execution_count": 114,
   "metadata": {},
   "outputs": [
    {
     "data": {
      "text/html": [
       "<div>\n",
       "<style scoped>\n",
       "    .dataframe tbody tr th:only-of-type {\n",
       "        vertical-align: middle;\n",
       "    }\n",
       "\n",
       "    .dataframe tbody tr th {\n",
       "        vertical-align: top;\n",
       "    }\n",
       "\n",
       "    .dataframe thead th {\n",
       "        text-align: right;\n",
       "    }\n",
       "</style>\n",
       "<table border=\"1\" class=\"dataframe\">\n",
       "  <thead>\n",
       "    <tr style=\"text-align: right;\">\n",
       "      <th></th>\n",
       "      <th>age</th>\n",
       "      <th>sex</th>\n",
       "      <th>bmi</th>\n",
       "      <th>children</th>\n",
       "      <th>smoker</th>\n",
       "      <th>region</th>\n",
       "      <th>charges</th>\n",
       "    </tr>\n",
       "  </thead>\n",
       "  <tbody>\n",
       "    <tr>\n",
       "      <th>0</th>\n",
       "      <td>19</td>\n",
       "      <td>female</td>\n",
       "      <td>27.900</td>\n",
       "      <td>0</td>\n",
       "      <td>yes</td>\n",
       "      <td>southwest</td>\n",
       "      <td>16884.92400</td>\n",
       "    </tr>\n",
       "    <tr>\n",
       "      <th>1</th>\n",
       "      <td>18</td>\n",
       "      <td>male</td>\n",
       "      <td>33.770</td>\n",
       "      <td>1</td>\n",
       "      <td>no</td>\n",
       "      <td>southeast</td>\n",
       "      <td>1725.55230</td>\n",
       "    </tr>\n",
       "    <tr>\n",
       "      <th>2</th>\n",
       "      <td>28</td>\n",
       "      <td>male</td>\n",
       "      <td>33.000</td>\n",
       "      <td>3</td>\n",
       "      <td>no</td>\n",
       "      <td>southeast</td>\n",
       "      <td>4449.46200</td>\n",
       "    </tr>\n",
       "    <tr>\n",
       "      <th>3</th>\n",
       "      <td>33</td>\n",
       "      <td>male</td>\n",
       "      <td>22.705</td>\n",
       "      <td>0</td>\n",
       "      <td>no</td>\n",
       "      <td>northwest</td>\n",
       "      <td>21984.47061</td>\n",
       "    </tr>\n",
       "    <tr>\n",
       "      <th>4</th>\n",
       "      <td>32</td>\n",
       "      <td>male</td>\n",
       "      <td>28.880</td>\n",
       "      <td>0</td>\n",
       "      <td>no</td>\n",
       "      <td>northwest</td>\n",
       "      <td>3866.85520</td>\n",
       "    </tr>\n",
       "  </tbody>\n",
       "</table>\n",
       "</div>"
      ],
      "text/plain": [
       "   age     sex     bmi  children smoker     region      charges\n",
       "0   19  female  27.900         0    yes  southwest  16884.92400\n",
       "1   18    male  33.770         1     no  southeast   1725.55230\n",
       "2   28    male  33.000         3     no  southeast   4449.46200\n",
       "3   33    male  22.705         0     no  northwest  21984.47061\n",
       "4   32    male  28.880         0     no  northwest   3866.85520"
      ]
     },
     "execution_count": 114,
     "metadata": {},
     "output_type": "execute_result"
    }
   ],
   "source": [
    "data=pd.read_csv(DATA_FILENAME)\n",
    "data.head()"
   ]
  },
  {
   "cell_type": "code",
   "execution_count": 115,
   "metadata": {},
   "outputs": [],
   "source": [
    "name=\"anurag\""
   ]
  },
  {
   "cell_type": "code",
   "execution_count": 116,
   "metadata": {},
   "outputs": [],
   "source": [
    "def custom(data, rand_str):\n",
    "    data_copy=data.copy(deep=True)\n",
    "    data_copy=data_copy.sample(int(0.95*len(data_copy)), random_state=int(ord(rand_str[0])))\n",
    "    data_copy.bmi=data_copy.bmi*ord(rand_str[1])/100.\n",
    "    data_copy.charges=data_copy.charges*ord(rand_str[2])/100.\n",
    "    if(ord(rand_str[3])%2==1):\n",
    "        data_copy=data_copy.drop(['region'], axis=1)\n",
    "    return data_copy"
   ]
  },
  {
   "cell_type": "code",
   "execution_count": 117,
   "metadata": {},
   "outputs": [
    {
     "data": {
      "text/html": [
       "<div>\n",
       "<style scoped>\n",
       "    .dataframe tbody tr th:only-of-type {\n",
       "        vertical-align: middle;\n",
       "    }\n",
       "\n",
       "    .dataframe tbody tr th {\n",
       "        vertical-align: top;\n",
       "    }\n",
       "\n",
       "    .dataframe thead th {\n",
       "        text-align: right;\n",
       "    }\n",
       "</style>\n",
       "<table border=\"1\" class=\"dataframe\">\n",
       "  <thead>\n",
       "    <tr style=\"text-align: right;\">\n",
       "      <th></th>\n",
       "      <th>age</th>\n",
       "      <th>sex</th>\n",
       "      <th>bmi</th>\n",
       "      <th>children</th>\n",
       "      <th>smoker</th>\n",
       "      <th>region</th>\n",
       "      <th>charges</th>\n",
       "    </tr>\n",
       "  </thead>\n",
       "  <tbody>\n",
       "    <tr>\n",
       "      <th>0</th>\n",
       "      <td>19</td>\n",
       "      <td>female</td>\n",
       "      <td>27.900</td>\n",
       "      <td>0</td>\n",
       "      <td>yes</td>\n",
       "      <td>southwest</td>\n",
       "      <td>16884.92400</td>\n",
       "    </tr>\n",
       "    <tr>\n",
       "      <th>1</th>\n",
       "      <td>18</td>\n",
       "      <td>male</td>\n",
       "      <td>33.770</td>\n",
       "      <td>1</td>\n",
       "      <td>no</td>\n",
       "      <td>southeast</td>\n",
       "      <td>1725.55230</td>\n",
       "    </tr>\n",
       "    <tr>\n",
       "      <th>2</th>\n",
       "      <td>28</td>\n",
       "      <td>male</td>\n",
       "      <td>33.000</td>\n",
       "      <td>3</td>\n",
       "      <td>no</td>\n",
       "      <td>southeast</td>\n",
       "      <td>4449.46200</td>\n",
       "    </tr>\n",
       "    <tr>\n",
       "      <th>3</th>\n",
       "      <td>33</td>\n",
       "      <td>male</td>\n",
       "      <td>22.705</td>\n",
       "      <td>0</td>\n",
       "      <td>no</td>\n",
       "      <td>northwest</td>\n",
       "      <td>21984.47061</td>\n",
       "    </tr>\n",
       "    <tr>\n",
       "      <th>4</th>\n",
       "      <td>32</td>\n",
       "      <td>male</td>\n",
       "      <td>28.880</td>\n",
       "      <td>0</td>\n",
       "      <td>no</td>\n",
       "      <td>northwest</td>\n",
       "      <td>3866.85520</td>\n",
       "    </tr>\n",
       "  </tbody>\n",
       "</table>\n",
       "</div>"
      ],
      "text/plain": [
       "   age     sex     bmi  children smoker     region      charges\n",
       "0   19  female  27.900         0    yes  southwest  16884.92400\n",
       "1   18    male  33.770         1     no  southeast   1725.55230\n",
       "2   28    male  33.000         3     no  southeast   4449.46200\n",
       "3   33    male  22.705         0     no  northwest  21984.47061\n",
       "4   32    male  28.880         0     no  northwest   3866.85520"
      ]
     },
     "execution_count": 117,
     "metadata": {},
     "output_type": "execute_result"
    }
   ],
   "source": [
    "data_copy=custom(data, name)\n",
    "data.head()"
   ]
  },
  {
   "cell_type": "code",
   "execution_count": 118,
   "metadata": {},
   "outputs": [
    {
     "name": "stdout",
     "output_type": "stream",
     "text": [
      "['sex', 'smoker', 'region']\n"
     ]
    }
   ],
   "source": [
    "categorical_cols=[]\n",
    "for col in data.columns:\n",
    "    if  not pd.api.types.is_numeric_dtype(data[col]) or pd.api.types.is_categorical_dtype(data[col]):\n",
    "        categorical_cols.append(col)\n",
    "print(categorical_cols)"
   ]
  },
  {
   "cell_type": "code",
   "execution_count": 119,
   "metadata": {},
   "outputs": [
    {
     "name": "stdout",
     "output_type": "stream",
     "text": [
      "['age', 'sex', 'bmi', 'children', 'smoker', 'region']\n"
     ]
    }
   ],
   "source": [
    "input_cols=[]\n",
    "for col in data:\n",
    "    if col!='charges':\n",
    "        input_cols.append(col)\n",
    "print(input_cols)"
   ]
  },
  {
   "cell_type": "code",
   "execution_count": 120,
   "metadata": {},
   "outputs": [
    {
     "name": "stdout",
     "output_type": "stream",
     "text": [
      "['charges']\n"
     ]
    }
   ],
   "source": [
    "output_cols=[]\n",
    "for col in data:\n",
    "    if col=='charges':\n",
    "        output_cols.append(col)\n",
    "print(output_cols)"
   ]
  },
  {
   "cell_type": "code",
   "execution_count": 121,
   "metadata": {},
   "outputs": [],
   "source": [
    "def tonumpy(dataframe):\n",
    "    data1=dataframe.copy(deep=True)\n",
    "    for col in categorical_cols:\n",
    "        data1[col]=data1[col].astype('category').cat.codes\n",
    "    inputs_array=data1[input_cols].to_numpy()\n",
    "    outputs_array=data1[output_cols].to_numpy()\n",
    "    return inputs_array, outputs_array"
   ]
  },
  {
   "cell_type": "code",
   "execution_count": 122,
   "metadata": {},
   "outputs": [],
   "source": [
    "input, target=tonumpy(data)"
   ]
  },
  {
   "cell_type": "code",
   "execution_count": 123,
   "metadata": {},
   "outputs": [
    {
     "data": {
      "text/plain": [
       "dtype('float64')"
      ]
     },
     "execution_count": 123,
     "metadata": {},
     "output_type": "execute_result"
    }
   ],
   "source": [
    "input.dtype"
   ]
  },
  {
   "cell_type": "code",
   "execution_count": 124,
   "metadata": {},
   "outputs": [],
   "source": [
    "from torch.utils.data import TensorDataset"
   ]
  },
  {
   "cell_type": "code",
   "execution_count": 125,
   "metadata": {},
   "outputs": [],
   "source": [
    "inputs=torch.tensor(input)\n",
    "targets=torch.tensor(target)"
   ]
  },
  {
   "cell_type": "code",
   "execution_count": 126,
   "metadata": {},
   "outputs": [],
   "source": [
    "dataset=TensorDataset(inputs, targets)"
   ]
  },
  {
   "cell_type": "code",
   "execution_count": 127,
   "metadata": {},
   "outputs": [],
   "source": [
    "n_rows, n_cols= data.shape"
   ]
  },
  {
   "cell_type": "code",
   "execution_count": 128,
   "metadata": {},
   "outputs": [],
   "source": [
    "val_size=int(0.8*len(data))\n",
    "train_size=len(dataset)-val_size"
   ]
  },
  {
   "cell_type": "code",
   "execution_count": 129,
   "metadata": {},
   "outputs": [],
   "source": [
    "from torch.utils.data import random_split"
   ]
  },
  {
   "cell_type": "code",
   "execution_count": 130,
   "metadata": {},
   "outputs": [],
   "source": [
    "train_dataset, val_dataset=random_split(dataset, [train_size, val_size])"
   ]
  },
  {
   "cell_type": "code",
   "execution_count": 131,
   "metadata": {},
   "outputs": [],
   "source": [
    "train_loader=DataLoader(train_dataset, batch_size=64, shuffle=True )\n",
    "val_loader=DataLoader(val_dataset, batch_size=64, shuffle=True )"
   ]
  },
  {
   "cell_type": "code",
   "execution_count": 132,
   "metadata": {},
   "outputs": [
    {
     "name": "stdout",
     "output_type": "stream",
     "text": [
      "inputs: tensor([[61.0000,  0.0000, 44.0000,  0.0000,  0.0000,  3.0000],\n",
      "        [19.0000,  1.0000, 34.8000,  0.0000,  1.0000,  3.0000],\n",
      "        [27.0000,  1.0000, 30.3000,  3.0000,  0.0000,  3.0000],\n",
      "        [30.0000,  1.0000, 31.4000,  1.0000,  0.0000,  3.0000],\n",
      "        [44.0000,  1.0000, 22.1350,  2.0000,  0.0000,  0.0000],\n",
      "        [19.0000,  1.0000, 27.2650,  2.0000,  0.0000,  1.0000],\n",
      "        [26.0000,  0.0000, 28.7850,  0.0000,  0.0000,  0.0000],\n",
      "        [19.0000,  0.0000, 30.0200,  0.0000,  1.0000,  1.0000],\n",
      "        [42.0000,  0.0000, 26.1800,  1.0000,  0.0000,  2.0000],\n",
      "        [18.0000,  0.0000, 39.1600,  0.0000,  0.0000,  2.0000],\n",
      "        [40.0000,  0.0000, 22.2200,  2.0000,  1.0000,  2.0000],\n",
      "        [50.0000,  1.0000, 37.0700,  1.0000,  0.0000,  2.0000],\n",
      "        [29.0000,  1.0000, 34.4000,  0.0000,  1.0000,  3.0000],\n",
      "        [35.0000,  1.0000, 17.8600,  1.0000,  0.0000,  1.0000],\n",
      "        [32.0000,  0.0000, 24.6000,  0.0000,  1.0000,  3.0000],\n",
      "        [26.0000,  1.0000, 32.4900,  1.0000,  0.0000,  0.0000],\n",
      "        [18.0000,  0.0000, 30.1150,  0.0000,  0.0000,  0.0000],\n",
      "        [44.0000,  1.0000, 34.3200,  1.0000,  0.0000,  2.0000],\n",
      "        [20.0000,  1.0000, 27.3000,  0.0000,  1.0000,  3.0000],\n",
      "        [19.0000,  1.0000, 34.9000,  0.0000,  1.0000,  3.0000],\n",
      "        [22.0000,  1.0000, 32.1100,  0.0000,  0.0000,  1.0000],\n",
      "        [52.0000,  0.0000, 46.7500,  5.0000,  0.0000,  2.0000],\n",
      "        [55.0000,  1.0000, 32.7750,  0.0000,  0.0000,  1.0000],\n",
      "        [53.0000,  1.0000, 24.3200,  0.0000,  0.0000,  1.0000],\n",
      "        [45.0000,  0.0000, 36.3000,  2.0000,  0.0000,  2.0000],\n",
      "        [28.0000,  1.0000, 36.4000,  1.0000,  1.0000,  3.0000],\n",
      "        [43.0000,  0.0000, 26.7000,  2.0000,  1.0000,  3.0000],\n",
      "        [25.0000,  0.0000, 41.3250,  0.0000,  0.0000,  0.0000],\n",
      "        [25.0000,  1.0000, 26.2200,  0.0000,  0.0000,  0.0000],\n",
      "        [44.0000,  1.0000, 37.1000,  2.0000,  0.0000,  3.0000],\n",
      "        [21.0000,  0.0000, 16.8150,  1.0000,  0.0000,  0.0000],\n",
      "        [54.0000,  0.0000, 31.9000,  3.0000,  0.0000,  2.0000],\n",
      "        [29.0000,  1.0000, 22.5150,  3.0000,  0.0000,  0.0000],\n",
      "        [34.0000,  0.0000, 37.3350,  2.0000,  0.0000,  1.0000],\n",
      "        [24.0000,  0.0000, 22.6000,  0.0000,  0.0000,  3.0000],\n",
      "        [37.0000,  1.0000, 30.8750,  3.0000,  0.0000,  1.0000],\n",
      "        [35.0000,  1.0000, 34.7700,  2.0000,  0.0000,  1.0000],\n",
      "        [50.0000,  0.0000, 31.6000,  2.0000,  0.0000,  3.0000],\n",
      "        [60.0000,  1.0000, 40.9200,  0.0000,  1.0000,  2.0000],\n",
      "        [26.0000,  1.0000, 32.9000,  2.0000,  1.0000,  3.0000],\n",
      "        [29.0000,  0.0000, 24.6000,  2.0000,  0.0000,  3.0000],\n",
      "        [31.0000,  1.0000, 39.4900,  1.0000,  0.0000,  2.0000],\n",
      "        [54.0000,  0.0000, 46.7000,  2.0000,  0.0000,  3.0000],\n",
      "        [22.0000,  0.0000, 30.4000,  0.0000,  0.0000,  0.0000],\n",
      "        [53.0000,  0.0000, 33.2500,  0.0000,  0.0000,  0.0000],\n",
      "        [44.0000,  0.0000, 32.3400,  1.0000,  0.0000,  2.0000],\n",
      "        [21.0000,  1.0000, 27.3600,  0.0000,  0.0000,  0.0000],\n",
      "        [37.0000,  0.0000, 30.8000,  2.0000,  0.0000,  2.0000],\n",
      "        [23.0000,  1.0000, 18.7150,  0.0000,  0.0000,  1.0000],\n",
      "        [59.0000,  0.0000, 27.5000,  0.0000,  0.0000,  3.0000],\n",
      "        [59.0000,  1.0000, 37.4000,  0.0000,  0.0000,  3.0000],\n",
      "        [30.0000,  1.0000, 38.8300,  1.0000,  0.0000,  2.0000],\n",
      "        [56.0000,  1.0000, 31.7900,  2.0000,  1.0000,  2.0000],\n",
      "        [56.0000,  1.0000, 25.9350,  0.0000,  0.0000,  0.0000],\n",
      "        [39.0000,  1.0000, 32.3400,  2.0000,  0.0000,  2.0000],\n",
      "        [56.0000,  0.0000, 25.3000,  0.0000,  0.0000,  3.0000],\n",
      "        [60.0000,  1.0000, 39.9000,  0.0000,  1.0000,  3.0000],\n",
      "        [31.0000,  0.0000, 38.0950,  1.0000,  1.0000,  0.0000],\n",
      "        [56.0000,  0.0000, 28.5950,  0.0000,  0.0000,  0.0000],\n",
      "        [51.0000,  1.0000, 35.9700,  1.0000,  0.0000,  2.0000],\n",
      "        [25.0000,  1.0000, 25.7400,  0.0000,  0.0000,  2.0000],\n",
      "        [19.0000,  0.0000, 20.6000,  0.0000,  0.0000,  3.0000],\n",
      "        [30.0000,  1.0000, 22.9900,  2.0000,  1.0000,  1.0000],\n",
      "        [53.0000,  1.0000, 30.4950,  0.0000,  0.0000,  0.0000]],\n",
      "       dtype=torch.float64)\n",
      "outputs: tensor([[13063.8830],\n",
      "        [34779.6150],\n",
      "        [ 4260.7440],\n",
      "        [ 3659.3460],\n",
      "        [ 8302.5356],\n",
      "        [22493.6596],\n",
      "        [ 3385.3992],\n",
      "        [33307.5508],\n",
      "        [ 7046.7222],\n",
      "        [ 1633.0444],\n",
      "        [19444.2658],\n",
      "        [ 9048.0273],\n",
      "        [36197.6990],\n",
      "        [ 5116.5004],\n",
      "        [17496.3060],\n",
      "        [ 3490.5491],\n",
      "        [ 2203.4718],\n",
      "        [ 7147.4728],\n",
      "        [16232.8470],\n",
      "        [34828.6540],\n",
      "        [ 2055.3249],\n",
      "        [12592.5345],\n",
      "        [10601.6323],\n",
      "        [ 9863.4718],\n",
      "        [ 8527.5320],\n",
      "        [51194.5591],\n",
      "        [22478.6000],\n",
      "        [17878.9007],\n",
      "        [ 2721.3208],\n",
      "        [ 7740.3370],\n",
      "        [ 3167.4558],\n",
      "        [27322.7339],\n",
      "        [ 5209.5788],\n",
      "        [ 5989.5237],\n",
      "        [ 2457.5020],\n",
      "        [ 6796.8633],\n",
      "        [ 5729.0053],\n",
      "        [10118.4240],\n",
      "        [48673.5588],\n",
      "        [36085.2190],\n",
      "        [ 4529.4770],\n",
      "        [ 3875.7341],\n",
      "        [11538.4210],\n",
      "        [ 2741.9480],\n",
      "        [10564.8845],\n",
      "        [ 7633.7206],\n",
      "        [ 2104.1134],\n",
      "        [ 6313.7590],\n",
      "        [21595.3823],\n",
      "        [12233.8280],\n",
      "        [21797.0004],\n",
      "        [18963.1719],\n",
      "        [43813.8661],\n",
      "        [11165.4176],\n",
      "        [ 6338.0756],\n",
      "        [11070.5350],\n",
      "        [48173.3610],\n",
      "        [58571.0745],\n",
      "        [11658.1151],\n",
      "        [ 9386.1613],\n",
      "        [ 2137.6536],\n",
      "        [ 1731.6770],\n",
      "        [17361.7661],\n",
      "        [10072.0551]], dtype=torch.float64)\n"
     ]
    }
   ],
   "source": [
    "for x,y in train_loader:\n",
    "    print(\"inputs:\", x)\n",
    "    print(\"outputs:\", y)\n",
    "    break"
   ]
  },
  {
   "cell_type": "code",
   "execution_count": 133,
   "metadata": {},
   "outputs": [],
   "source": [
    "input_size = len(input_cols)\n",
    "output_size = len(output_cols)"
   ]
  },
  {
   "cell_type": "code",
   "execution_count": 134,
   "metadata": {},
   "outputs": [],
   "source": [
    "import torch.nn as nn"
   ]
  },
  {
   "cell_type": "code",
   "execution_count": 135,
   "metadata": {},
   "outputs": [],
   "source": [
    "import torch\n",
    "import torch.nn as nn\n",
    "\n",
    "class InsuranceModel(nn.Module):\n",
    "    def __init__(self, input_size, output_size):\n",
    "        super().__init__()\n",
    "        self.linear = nn.Linear(input_size, output_size)  # Fill in the input and output sizes\n",
    "\n",
    "    def forward(self, xb):\n",
    "        xb = xb.float()  # Assuming you want to work with float data type\n",
    "        out = self.linear(xb)\n",
    "        return out\n",
    "\n",
    "\n",
    "    def training_step(self, batch):\n",
    "        inputs, targets = batch\n",
    "        # Generate predictions\n",
    "        out = self(inputs)\n",
    "        # Ensure consistent data type (e.g., float)\n",
    "        targets = targets.float()\n",
    "    # Calculate loss (for example, mean squared error)\n",
    "        loss = nn.MSELoss()(out, targets)\n",
    "        return loss\n",
    "\n",
    "    def validation_step(self, batch):\n",
    "        inputs, targets = batch\n",
    "        # Generate predictions\n",
    "        out = self(inputs)\n",
    "        # Calculate loss\n",
    "        loss = nn.MSELoss()(out,targets)                     # fill this\n",
    "        return {'val_loss': loss.detach()}\n",
    "    def validation_epoch_end(self, outputs):\n",
    "        batch_losses = [torch.tensor(x['val_loss']) for x in outputs]\n",
    "        epoch_loss = torch.stack(batch_losses).mean()   # Combine losses\n",
    "        return {'val_loss': epoch_loss.item()}\n",
    "\n",
    "    def validation_epoch_end(self, outputs):\n",
    "        batch_losses = [x['val_loss'] for x in outputs]\n",
    "        epoch_loss = torch.stack(batch_losses).mean()   # Combine losses\n",
    "        return {'val_loss': epoch_loss.item()}\n",
    "\n",
    "    def epoch_end(self, epoch, result, num_epochs):\n",
    "        # Print result every 20th epoch\n",
    "        if (epoch+1) % 20 == 0 or epoch == num_epochs-1:\n",
    "            print(\"Epoch [{}], val_loss: {:.4f}\".format(epoch+1, result['val_loss']))\n"
   ]
  },
  {
   "cell_type": "code",
   "execution_count": 136,
   "metadata": {},
   "outputs": [],
   "source": [
    "model=InsuranceModel(input_size, output_size)"
   ]
  },
  {
   "cell_type": "code",
   "execution_count": 137,
   "metadata": {},
   "outputs": [
    {
     "data": {
      "text/plain": [
       "[Parameter containing:\n",
       " tensor([[-0.0128,  0.0348,  0.4074, -0.2988,  0.0056, -0.2565]],\n",
       "        requires_grad=True),\n",
       " Parameter containing:\n",
       " tensor([-0.1346], requires_grad=True)]"
      ]
     },
     "execution_count": 137,
     "metadata": {},
     "output_type": "execute_result"
    }
   ],
   "source": [
    "list(model.parameters())"
   ]
  },
  {
   "cell_type": "code",
   "execution_count": 138,
   "metadata": {},
   "outputs": [],
   "source": [
    "def evaluate(model, val_loader):\n",
    "    outputs = [model.validation_step(batch) for batch in val_loader]\n",
    "    return model.validation_epoch_end(outputs)\n",
    "\n",
    "def fit(epochs, lr, model, train_loader, val_loader, opt_func=torch.optim.SGD):\n",
    "    history = []\n",
    "    optimizer = opt_func(model.parameters(), lr)\n",
    "    for epoch in range(epochs):\n",
    "        # Training Phase\n",
    "        for batch in train_loader:\n",
    "            loss = model.training_step(batch)\n",
    "            loss.backward()\n",
    "            optimizer.step()\n",
    "            optimizer.zero_grad()\n",
    "        # Validation phase\n",
    "        result = evaluate(model, val_loader)\n",
    "        model.epoch_end(epoch, result, epochs)\n",
    "        history.append(result)\n",
    "    return history"
   ]
  },
  {
   "cell_type": "code",
   "execution_count": 139,
   "metadata": {},
   "outputs": [
    {
     "name": "stdout",
     "output_type": "stream",
     "text": [
      "{'val_loss': 328972428.2500011}\n"
     ]
    }
   ],
   "source": [
    "print(evaluate(model, val_loader))"
   ]
  },
  {
   "cell_type": "code",
   "execution_count": 140,
   "metadata": {},
   "outputs": [],
   "source": [
    "learning_rates = [1e-2, 1e-3, 1e-4, 1e-5, 1e-6]\n",
    "epochs_list = [20, 30, 40, 50, 60]  # You can adjust the number of epochs as needed\n"
   ]
  },
  {
   "cell_type": "code",
   "execution_count": 141,
   "metadata": {},
   "outputs": [
    {
     "name": "stdout",
     "output_type": "stream",
     "text": [
      "Epoch [20], val_loss: nan\n",
      "Learning Rate: 0.01, Epochs: 20\n",
      "Epoch [20], val_loss: nan\n",
      "Epoch [30], val_loss: nan\n",
      "Learning Rate: 0.01, Epochs: 30\n",
      "Epoch [20], val_loss: nan\n",
      "Epoch [40], val_loss: nan\n",
      "Learning Rate: 0.01, Epochs: 40\n",
      "Epoch [20], val_loss: nan\n",
      "Epoch [40], val_loss: nan\n",
      "Epoch [50], val_loss: nan\n",
      "Learning Rate: 0.01, Epochs: 50\n",
      "Epoch [20], val_loss: nan\n",
      "Epoch [40], val_loss: nan\n",
      "Epoch [60], val_loss: nan\n",
      "Learning Rate: 0.01, Epochs: 60\n",
      "Epoch [20], val_loss: nan\n",
      "Learning Rate: 0.001, Epochs: 20\n",
      "Epoch [20], val_loss: nan\n",
      "Epoch [30], val_loss: nan\n",
      "Learning Rate: 0.001, Epochs: 30\n",
      "Epoch [20], val_loss: nan\n",
      "Epoch [40], val_loss: nan\n",
      "Learning Rate: 0.001, Epochs: 40\n",
      "Epoch [20], val_loss: nan\n",
      "Epoch [40], val_loss: nan\n",
      "Epoch [50], val_loss: nan\n",
      "Learning Rate: 0.001, Epochs: 50\n",
      "Epoch [20], val_loss: nan\n",
      "Epoch [40], val_loss: nan\n",
      "Epoch [60], val_loss: nan\n",
      "Learning Rate: 0.001, Epochs: 60\n",
      "Epoch [20], val_loss: 133644293.3585\n",
      "Learning Rate: 0.0001, Epochs: 20\n",
      "Epoch [20], val_loss: 131317497.8425\n",
      "Epoch [30], val_loss: 130886573.7555\n",
      "Learning Rate: 0.0001, Epochs: 30\n",
      "Epoch [20], val_loss: 135977789.1457\n",
      "Epoch [40], val_loss: 134781046.2340\n",
      "Learning Rate: 0.0001, Epochs: 40\n",
      "Epoch [20], val_loss: 132906682.1377\n",
      "Epoch [40], val_loss: 131241704.0482\n",
      "Epoch [50], val_loss: 131168567.8420\n",
      "Learning Rate: 0.0001, Epochs: 50\n",
      "Epoch [20], val_loss: 133561285.7539\n",
      "Epoch [40], val_loss: 130838569.3529\n",
      "Epoch [60], val_loss: 130216628.8307\n",
      "Learning Rate: 0.0001, Epochs: 60\n",
      "Epoch [20], val_loss: 132239843.5306\n",
      "Learning Rate: 1e-05, Epochs: 20\n",
      "Epoch [20], val_loss: 133040316.8330\n",
      "Epoch [30], val_loss: 132944378.5021\n",
      "Learning Rate: 1e-05, Epochs: 30\n",
      "Epoch [20], val_loss: 133119657.1717\n",
      "Epoch [40], val_loss: 131728346.5881\n",
      "Learning Rate: 1e-05, Epochs: 40\n",
      "Epoch [20], val_loss: 134568285.1124\n",
      "Epoch [40], val_loss: 134120165.6744\n",
      "Epoch [50], val_loss: 133256000.3945\n",
      "Learning Rate: 1e-05, Epochs: 50\n",
      "Epoch [20], val_loss: 133910738.1432\n",
      "Epoch [40], val_loss: 132148304.3856\n",
      "Epoch [60], val_loss: 132772681.4054\n",
      "Learning Rate: 1e-05, Epochs: 60\n",
      "Epoch [20], val_loss: 207828506.7118\n",
      "Learning Rate: 1e-06, Epochs: 20\n",
      "Epoch [20], val_loss: 210697583.3752\n",
      "Epoch [30], val_loss: 178652499.0697\n",
      "Learning Rate: 1e-06, Epochs: 30\n",
      "Epoch [20], val_loss: 211024781.8348\n",
      "Epoch [40], val_loss: 163047088.3479\n",
      "Learning Rate: 1e-06, Epochs: 40\n",
      "Epoch [20], val_loss: 207721806.3293\n",
      "Epoch [40], val_loss: 165515149.2519\n",
      "Epoch [50], val_loss: 152263730.2031\n",
      "Learning Rate: 1e-06, Epochs: 50\n",
      "Epoch [20], val_loss: 209032473.4856\n",
      "Epoch [40], val_loss: 164211368.3391\n",
      "Epoch [60], val_loss: 145218928.7587\n",
      "Learning Rate: 1e-06, Epochs: 60\n"
     ]
    }
   ],
   "source": [
    "for lr in learning_rates:\n",
    "    for epochs in epochs_list:\n",
    "        # Create a new instance of your model (if needed) for each training run\n",
    "        model = InsuranceModel(input_size, output_size)\n",
    "        \n",
    "        # Train the model using the current learning rate and number of epochs\n",
    "        history = fit(epochs, lr, model, train_loader, val_loader)\n",
    "        \n",
    "        # Print or store the training results (e.g., loss, accuracy) for analysis\n",
    "        print(f\"Learning Rate: {lr}, Epochs: {epochs}\")\n",
    "        # You can print or analyze the history variable to get training results\n",
    "        \n",
    "        # Optionally, you can save the trained model weights for each run if needed\n",
    "        torch.save(model.state_dict(), f\"model_lr_{lr}_epochs_{epochs}.pt\")\n"
   ]
  },
  {
   "cell_type": "code",
   "execution_count": 142,
   "metadata": {},
   "outputs": [],
   "source": [
    "def predict_single(input, target, model):\n",
    "    inputs = input.unsqueeze(0)\n",
    "    predictions = model(inputs)               # fill this\n",
    "    prediction = predictions[0].detach()\n",
    "    print(\"Input:\", input)\n",
    "    print(\"Target:\", target)\n",
    "    print(\"Prediction:\", prediction)"
   ]
  },
  {
   "cell_type": "code",
   "execution_count": 145,
   "metadata": {},
   "outputs": [
    {
     "name": "stdout",
     "output_type": "stream",
     "text": [
      "Input: tensor([62.0000,  1.0000, 38.8300,  0.0000,  0.0000,  2.0000],\n",
      "       dtype=torch.float64)\n",
      "Target: tensor([12981.3457], dtype=torch.float64)\n",
      "Prediction: tensor([14598.7480])\n"
     ]
    }
   ],
   "source": [
    "input, target = val_dataset[10]\n",
    "predict_single(input, target, model)"
   ]
  }
 ],
 "metadata": {
  "kernelspec": {
   "display_name": "base",
   "language": "python",
   "name": "python3"
  },
  "language_info": {
   "codemirror_mode": {
    "name": "ipython",
    "version": 3
   },
   "file_extension": ".py",
   "mimetype": "text/x-python",
   "name": "python",
   "nbconvert_exporter": "python",
   "pygments_lexer": "ipython3",
   "version": "3.11.3"
  },
  "orig_nbformat": 4
 },
 "nbformat": 4,
 "nbformat_minor": 2
}
